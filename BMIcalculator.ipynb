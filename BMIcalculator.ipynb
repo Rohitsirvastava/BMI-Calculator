{
 "cells": [
  {
   "cell_type": "markdown",
   "id": "6cded436-35fd-4bbe-a57f-c8248a130690",
   "metadata": {},
   "source": [
    "# BMI calculator"
   ]
  },
  {
   "cell_type": "code",
   "execution_count": 34,
   "id": "daaf796e-48ca-4e73-b03e-48f788119bd0",
   "metadata": {},
   "outputs": [
    {
     "name": "stdin",
     "output_type": "stream",
     "text": [
      " Enter your Name -> Rohit\n",
      " Enter your Weight  in Kg -> 75\n",
      " Enter your Height in cm ->  171\n"
     ]
    },
    {
     "name": "stdout",
     "output_type": "stream",
     "text": [
      "25.64611609746589\n",
      "Rohit, you are over weight.\n"
     ]
    }
   ],
   "source": [
    "Name = input(\" Enter your Name ->\")\n",
    "Weight = int(input(\" Enter your Weight  in Kg ->\"))\n",
    "Height = int(input(\" Enter your Height in cm -> \"))\n",
    "BMI = ( Weight*2.2046 * 703 ) / ( Height/2.54 * Height/2.54)\n",
    "print (BMI)\n",
    "if BMI>0:\n",
    "    if (BMI < 18.5):\n",
    "        print( Name + \", you are under weight.\")\n",
    "    elif (BMI <= 24.9):\n",
    "        print(Name + \", you are normal weight.\")\n",
    "    elif (BMI <=29.9):\n",
    "        print(Name + \", you are over weight.\")\n",
    "    elif (BMI <=34.9):\n",
    "        print(Name + \", you are over obese.\")\n",
    "    else:\n",
    "        print(Name + \", you are over morebidly obese.\")\n",
    "else:\n",
    "    print(\"Enter Valid input\")"
   ]
  },
  {
   "cell_type": "code",
   "execution_count": null,
   "id": "e7614709-cf02-4f1f-a82c-2f9153f314e4",
   "metadata": {},
   "outputs": [],
   "source": []
  },
  {
   "cell_type": "code",
   "execution_count": null,
   "id": "a675c989-225d-4b2f-9395-a6b2097c6500",
   "metadata": {},
   "outputs": [],
   "source": []
  },
  {
   "cell_type": "code",
   "execution_count": null,
   "id": "452ca213-1773-4e3e-881b-25930c454e6e",
   "metadata": {},
   "outputs": [],
   "source": []
  },
  {
   "cell_type": "code",
   "execution_count": null,
   "id": "f1553b72-fe05-4948-b6b9-fe75e7061188",
   "metadata": {},
   "outputs": [],
   "source": []
  },
  {
   "cell_type": "code",
   "execution_count": null,
   "id": "c972d973-f767-4a99-9ffa-672fdd5bbf18",
   "metadata": {},
   "outputs": [],
   "source": []
  },
  {
   "cell_type": "code",
   "execution_count": null,
   "id": "f2105f12-4d3a-4982-8334-eb42a24c34ef",
   "metadata": {},
   "outputs": [],
   "source": []
  },
  {
   "cell_type": "code",
   "execution_count": null,
   "id": "5d9b2747-7186-4626-a1b7-4738599ed0e1",
   "metadata": {},
   "outputs": [],
   "source": []
  },
  {
   "cell_type": "code",
   "execution_count": null,
   "id": "d37458e9-128c-4eb4-9610-2078c06ada60",
   "metadata": {},
   "outputs": [],
   "source": []
  },
  {
   "cell_type": "code",
   "execution_count": null,
   "id": "d36faf9c-bab1-443a-8b10-91c809549c1d",
   "metadata": {},
   "outputs": [],
   "source": []
  },
  {
   "cell_type": "code",
   "execution_count": null,
   "id": "111c6d34-2b73-437f-850f-812ff91e10b1",
   "metadata": {},
   "outputs": [],
   "source": []
  },
  {
   "cell_type": "code",
   "execution_count": null,
   "id": "615ee806-1756-40f3-a9ff-2a2ca21a11bb",
   "metadata": {},
   "outputs": [],
   "source": []
  },
  {
   "cell_type": "code",
   "execution_count": null,
   "id": "68cb8605-b05f-4490-90df-aa4b4db8092b",
   "metadata": {},
   "outputs": [],
   "source": []
  },
  {
   "cell_type": "code",
   "execution_count": null,
   "id": "8abc4a3c-e508-437c-9f8d-3b74fcc3647b",
   "metadata": {},
   "outputs": [],
   "source": []
  },
  {
   "cell_type": "code",
   "execution_count": null,
   "id": "f1fb0acb-2238-4e1b-8837-a025450aef81",
   "metadata": {},
   "outputs": [],
   "source": []
  },
  {
   "cell_type": "code",
   "execution_count": null,
   "id": "f753c283-1755-43d5-bf1f-9cd4e06e1560",
   "metadata": {},
   "outputs": [],
   "source": []
  }
 ],
 "metadata": {
  "kernelspec": {
   "display_name": "Python 3 (ipykernel)",
   "language": "python",
   "name": "python3"
  },
  "language_info": {
   "codemirror_mode": {
    "name": "ipython",
    "version": 3
   },
   "file_extension": ".py",
   "mimetype": "text/x-python",
   "name": "python",
   "nbconvert_exporter": "python",
   "pygments_lexer": "ipython3",
   "version": "3.11.7"
  }
 },
 "nbformat": 4,
 "nbformat_minor": 5
}
